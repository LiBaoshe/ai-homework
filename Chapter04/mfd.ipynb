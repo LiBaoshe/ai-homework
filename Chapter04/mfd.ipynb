{
 "cells": [
  {
   "cell_type": "code",
   "execution_count": 1,
   "id": "8df3baac-37b6-4ae1-8ed6-3b40328f8c48",
   "metadata": {},
   "outputs": [],
   "source": [
    "import os\n",
    "\n",
    "# 从环境变量获取 DeepSeek API Key\n",
    "api_key = os.getenv(\"DEEPSEEK_API_KEY\")"
   ]
  },
  {
   "cell_type": "code",
   "execution_count": 2,
   "id": "f17f3587-e630-4350-81bb-938cb4bb9518",
   "metadata": {},
   "outputs": [
    {
     "name": "stdout",
     "output_type": "stream",
     "text": [
      "388\n"
     ]
    }
   ],
   "source": [
    "with open(\"mfd.md\", \"r\", encoding=\"utf-8\") as file:\n",
    "    file_text = file.read()\n",
    "\n",
    "text_lines = file_text.split(\"**第\")\n",
    "print(len(text_lines))"
   ]
  },
  {
   "cell_type": "code",
   "execution_count": 3,
   "id": "c5170eba-1076-4696-a76e-40b6ba20a078",
   "metadata": {},
   "outputs": [],
   "source": [
    "from openai import OpenAI\n",
    "\n",
    "deepseek_client = OpenAI(\n",
    "    api_key=api_key,\n",
    "    base_url=\"https://api.deepseek.com/v1\",  # DeepSeek API 的基地址\n",
    ")"
   ]
  },
  {
   "cell_type": "code",
   "execution_count": 4,
   "id": "dc732d56-74c6-4efd-a596-d381af30311c",
   "metadata": {},
   "outputs": [],
   "source": [
    "from pymilvus import model as milvus_model\n",
    "\n",
    "embedding_model = milvus_model.DefaultEmbeddingFunction()"
   ]
  },
  {
   "cell_type": "code",
   "execution_count": 8,
   "id": "180ed1aa-e626-43ab-bd90-2f5742e98550",
   "metadata": {},
   "outputs": [
    {
     "name": "stdout",
     "output_type": "stream",
     "text": [
      "768\n",
      "[-0.04836059  0.07163021 -0.01130063 -0.03789341 -0.03320651 -0.01318453\n",
      " -0.03041721 -0.02269495 -0.02317858 -0.00426026]\n"
     ]
    }
   ],
   "source": [
    "test_embedding = embedding_model.encode_queries([\"This is a test\"])[0]\n",
    "embedding_dim = len(test_embedding)\n",
    "print(embedding_dim)\n",
    "print(test_embedding[:10])"
   ]
  },
  {
   "cell_type": "code",
   "execution_count": 9,
   "id": "cc3ebe0d-eb3e-41db-95a5-cdaf62472263",
   "metadata": {},
   "outputs": [
    {
     "name": "stdout",
     "output_type": "stream",
     "text": [
      "[-0.02752976  0.0608853   0.00388525 -0.00215193 -0.02774976 -0.0118618\n",
      " -0.04020916 -0.06023417 -0.03813156  0.0100272 ]\n"
     ]
    }
   ],
   "source": [
    "test_embedding_0 = embedding_model.encode_queries([\"That is a test\"])[0]\n",
    "print(test_embedding_0[:10])"
   ]
  },
  {
   "cell_type": "code",
   "execution_count": 5,
   "id": "30bde79a-a44e-4f05-9632-91d2a2750dd1",
   "metadata": {},
   "outputs": [],
   "source": [
    "from pymilvus import MilvusClient\n",
    "\n",
    "milvus_client = MilvusClient(uri=\"./milvus_mfd.db\")\n",
    "\n",
    "collection_name = \"my_mfd_rag_collection\""
   ]
  },
  {
   "cell_type": "code",
   "execution_count": 6,
   "id": "f93433d2-e4c1-4cac-a9ef-f7ae0f773215",
   "metadata": {},
   "outputs": [],
   "source": [
    "if milvus_client.has_collection(collection_name):\n",
    "    milvus_client.drop_collection(collection_name)"
   ]
  },
  {
   "cell_type": "code",
   "execution_count": 10,
   "id": "e4d2efcb-9540-4eb3-b1fc-17995f20579e",
   "metadata": {},
   "outputs": [],
   "source": [
    "milvus_client.create_collection(\n",
    "    collection_name=collection_name,\n",
    "    dimension=embedding_dim,\n",
    "    metric_type=\"IP\",  # 内积距离\n",
    "    consistency_level=\"Strong\",  # 支持的值为 (`\"Strong\"`, `\"Session\"`, `\"Bounded\"`, `\"Eventually\"`)。更多详情请参见 https://milvus.io/docs/consistency.md#Consistency-Level。\n",
    ")"
   ]
  },
  {
   "cell_type": "code",
   "execution_count": 11,
   "id": "d13aff3b-d742-4415-b61b-d9ea8b849198",
   "metadata": {},
   "outputs": [
    {
     "name": "stderr",
     "output_type": "stream",
     "text": [
      "Creating embeddings: 100%|██████████| 388/388 [00:00<00:00, 747194.65it/s]\n"
     ]
    },
    {
     "data": {
      "text/plain": [
       "{'insert_count': 388, 'ids': [0, 1, 2, 3, 4, 5, 6, 7, 8, 9, 10, 11, 12, 13, 14, 15, 16, 17, 18, 19, 20, 21, 22, 23, 24, 25, 26, 27, 28, 29, 30, 31, 32, 33, 34, 35, 36, 37, 38, 39, 40, 41, 42, 43, 44, 45, 46, 47, 48, 49, 50, 51, 52, 53, 54, 55, 56, 57, 58, 59, 60, 61, 62, 63, 64, 65, 66, 67, 68, 69, 70, 71, 72, 73, 74, 75, 76, 77, 78, 79, 80, 81, 82, 83, 84, 85, 86, 87, 88, 89, 90, 91, 92, 93, 94, 95, 96, 97, 98, 99, 100, 101, 102, 103, 104, 105, 106, 107, 108, 109, 110, 111, 112, 113, 114, 115, 116, 117, 118, 119, 120, 121, 122, 123, 124, 125, 126, 127, 128, 129, 130, 131, 132, 133, 134, 135, 136, 137, 138, 139, 140, 141, 142, 143, 144, 145, 146, 147, 148, 149, 150, 151, 152, 153, 154, 155, 156, 157, 158, 159, 160, 161, 162, 163, 164, 165, 166, 167, 168, 169, 170, 171, 172, 173, 174, 175, 176, 177, 178, 179, 180, 181, 182, 183, 184, 185, 186, 187, 188, 189, 190, 191, 192, 193, 194, 195, 196, 197, 198, 199, 200, 201, 202, 203, 204, 205, 206, 207, 208, 209, 210, 211, 212, 213, 214, 215, 216, 217, 218, 219, 220, 221, 222, 223, 224, 225, 226, 227, 228, 229, 230, 231, 232, 233, 234, 235, 236, 237, 238, 239, 240, 241, 242, 243, 244, 245, 246, 247, 248, 249, 250, 251, 252, 253, 254, 255, 256, 257, 258, 259, 260, 261, 262, 263, 264, 265, 266, 267, 268, 269, 270, 271, 272, 273, 274, 275, 276, 277, 278, 279, 280, 281, 282, 283, 284, 285, 286, 287, 288, 289, 290, 291, 292, 293, 294, 295, 296, 297, 298, 299, 300, 301, 302, 303, 304, 305, 306, 307, 308, 309, 310, 311, 312, 313, 314, 315, 316, 317, 318, 319, 320, 321, 322, 323, 324, 325, 326, 327, 328, 329, 330, 331, 332, 333, 334, 335, 336, 337, 338, 339, 340, 341, 342, 343, 344, 345, 346, 347, 348, 349, 350, 351, 352, 353, 354, 355, 356, 357, 358, 359, 360, 361, 362, 363, 364, 365, 366, 367, 368, 369, 370, 371, 372, 373, 374, 375, 376, 377, 378, 379, 380, 381, 382, 383, 384, 385, 386, 387], 'cost': 0}"
      ]
     },
     "execution_count": 11,
     "metadata": {},
     "output_type": "execute_result"
    }
   ],
   "source": [
    "from tqdm import tqdm\n",
    "\n",
    "data = []\n",
    "\n",
    "doc_embeddings = embedding_model.encode_documents(text_lines)\n",
    "\n",
    "for i, line in enumerate(tqdm(text_lines, desc=\"Creating embeddings\")):\n",
    "    data.append({\"id\": i, \"vector\": doc_embeddings[i], \"text\": line})\n",
    "\n",
    "milvus_client.insert(collection_name=collection_name, data=data)"
   ]
  },
  {
   "cell_type": "code",
   "execution_count": 12,
   "id": "65e73410-7730-41f1-b0df-18f26a4ce598",
   "metadata": {},
   "outputs": [],
   "source": [
    "question = \"什么是不动产?\""
   ]
  },
  {
   "cell_type": "code",
   "execution_count": 13,
   "id": "c4fb0cb5-7adf-4088-a7b3-1ef111716f2a",
   "metadata": {},
   "outputs": [],
   "source": [
    "search_res = milvus_client.search(\n",
    "    collection_name=collection_name,\n",
    "    data=embedding_model.encode_queries(\n",
    "        [question]\n",
    "    ),  # 将问题转换为嵌入向量\n",
    "    limit=3,  # 返回前3个结果\n",
    "    search_params={\"metric_type\": \"IP\", \"params\": {}},  # 内积距离\n",
    "    output_fields=[\"text\"],  # 返回 text 字段\n",
    ")"
   ]
  },
  {
   "cell_type": "code",
   "execution_count": 14,
   "id": "fb3ff349-a19b-4278-88f2-a87f2465ed90",
   "metadata": {},
   "outputs": [
    {
     "name": "stdout",
     "output_type": "stream",
     "text": [
      "[\n",
      "    [\n",
      "        \"\\u4e8c\\u767e\\u4e00\\u5341\\u4e5d\\u6761** \\u5229\\u5bb3\\u5173\\u7cfb\\u4eba\\u53ef\\u4ee5\\u7533\\u8bf7\\u67e5\\u8be2\\u4e0d\\u52a8\\u4ea7\\u767b\\u8bb0\\u8d44\\u6599\\u3002\\u7533\\u8bf7\\u67e5\\u8be2\\u7684\\uff0c\\u767b\\u8bb0\\u673a\\u6784\\u5e94\\u5f53\\u63d0\\u4f9b\\u3002\\n\\n\",\n",
      "        0.6411126852035522\n",
      "    ],\n",
      "    [\n",
      "        \"\\u4e8c\\u767e\\u4e00\\u5341\\u516b\\u6761** \\u6743\\u5229\\u4eba\\u3001\\u5229\\u5bb3\\u5173\\u7cfb\\u4eba\\u53ef\\u4ee5\\u7533\\u8bf7\\u67e5\\u8be2\\u3001\\u590d\\u5236\\u4e0d\\u52a8\\u4ea7\\u767b\\u8bb0\\u8d44\\u6599\\uff0c\\u767b\\u8bb0\\u673a\\u6784\\u5e94\\u5f53\\u63d0\\u4f9b\\u3002\\n\\n\",\n",
      "        0.6411126852035522\n",
      "    ],\n",
      "    [\n",
      "        \"\\u4e8c\\u767e\\u96f6\\u4e03\\u6761** \\u56fd\\u5bb6\\u3001\\u96c6\\u4f53\\u3001\\u79c1\\u4eba\\u7684\\u7269\\u6743\\u548c\\u5176\\u4ed6\\u6743\\u5229\\u4eba\\u7684\\u7269\\u6743\\u53d7\\u6cd5\\u5f8b\\u5e73\\u7b49\\u4fdd\\u62a4\\uff0c\\u4efb\\u4f55\\u7ec4\\u7ec7\\u6216\\u8005\\u4e2a\\u4eba\\u4e0d\\u5f97\\u4fb5\\u72af\\u3002\\n\\n\",\n",
      "        0.6411126852035522\n",
      "    ]\n",
      "]\n"
     ]
    }
   ],
   "source": [
    "import json\n",
    "\n",
    "retrieved_lines_with_distances = [\n",
    "    (res[\"entity\"][\"text\"], res[\"distance\"]) for res in search_res[0]\n",
    "]\n",
    "print(json.dumps(retrieved_lines_with_distances, indent=4))"
   ]
  },
  {
   "cell_type": "code",
   "execution_count": 15,
   "id": "2a01d928-2dca-4f74-838d-9fc05c50855d",
   "metadata": {},
   "outputs": [],
   "source": [
    "context = \"\\n\".join(\n",
    "    [line_with_distance[0] for line_with_distance in retrieved_lines_with_distances]\n",
    ")"
   ]
  },
  {
   "cell_type": "code",
   "execution_count": 16,
   "id": "c05256de-e8fa-4220-b68f-9bf5f17577cb",
   "metadata": {},
   "outputs": [
    {
     "data": {
      "text/plain": [
       "'二百一十九条** 利害关系人可以申请查询不动产登记资料。申请查询的，登记机构应当提供。\\n\\n\\n二百一十八条** 权利人、利害关系人可以申请查询、复制不动产登记资料，登记机构应当提供。\\n\\n\\n二百零七条** 国家、集体、私人的物权和其他权利人的物权受法律平等保护，任何组织或者个人不得侵犯。\\n\\n'"
      ]
     },
     "execution_count": 16,
     "metadata": {},
     "output_type": "execute_result"
    }
   ],
   "source": [
    "context"
   ]
  },
  {
   "cell_type": "code",
   "execution_count": 17,
   "id": "39fa730b-6bd5-4cb2-ad1e-f44be33a9397",
   "metadata": {},
   "outputs": [],
   "source": [
    "SYSTEM_PROMPT = \"\"\"\n",
    "Human: 你是一个 AI 助手。你能够从提供的上下文段落片段中找到问题的答案。\n",
    "\"\"\"\n",
    "USER_PROMPT = f\"\"\"\n",
    "请使用以下用 <context> 标签括起来的信息片段来回答用 <question> 标签括起来的问题。最后追加原始回答的中文翻译，并用 <translated>和</translated> 标签标注。\n",
    "<context>\n",
    "{context}\n",
    "</context>\n",
    "<question>\n",
    "{question}\n",
    "</question>\n",
    "<translated>\n",
    "</translated>\n",
    "\"\"\""
   ]
  },
  {
   "cell_type": "code",
   "execution_count": 18,
   "id": "90d576e4-d505-4724-acd3-5eaf67808ead",
   "metadata": {},
   "outputs": [
    {
     "data": {
      "text/plain": [
       "'\\n请使用以下用 <context> 标签括起来的信息片段来回答用 <question> 标签括起来的问题。最后追加原始回答的中文翻译，并用 <translated>和</translated> 标签标注。\\n<context>\\n二百一十九条** 利害关系人可以申请查询不动产登记资料。申请查询的，登记机构应当提供。\\n\\n\\n二百一十八条** 权利人、利害关系人可以申请查询、复制不动产登记资料，登记机构应当提供。\\n\\n\\n二百零七条** 国家、集体、私人的物权和其他权利人的物权受法律平等保护，任何组织或者个人不得侵犯。\\n\\n\\n</context>\\n<question>\\n什么是不动产?\\n</question>\\n<translated>\\n</translated>\\n'"
      ]
     },
     "execution_count": 18,
     "metadata": {},
     "output_type": "execute_result"
    }
   ],
   "source": [
    "USER_PROMPT"
   ]
  },
  {
   "cell_type": "code",
   "execution_count": 19,
   "id": "8c74ff30-8132-4506-b0a3-5e663b0d45b3",
   "metadata": {},
   "outputs": [
    {
     "name": "stdout",
     "output_type": "stream",
     "text": [
      "根据提供的上下文，虽然未直接定义\"不动产\"，但通过相关条款可以推断：\n",
      "\n",
      "不动产是指土地、房屋等不能移动或移动会损害其价值的财产，其物权（包括所有权、使用权等）受法律保护（依据第二百零七条），且相关登记资料可供权利人及利害关系人查询（依据第二百一十八条、第二百一十九条）。\n",
      "\n",
      "<translated>\n",
      "According to the provided context, although the term \"real estate\" is not directly defined, it can be inferred from the relevant clauses that:\n",
      "\n",
      "Real estate refers to immovable property such as land and buildings that cannot be moved or whose value would be impaired if moved. The property rights (including ownership, usage rights, etc.) of such assets are protected by law (Article 207), and the registration information is available for inquiry by rights holders and interested parties (Articles 218 and 219).\n",
      "</translated>\n"
     ]
    }
   ],
   "source": [
    "response = deepseek_client.chat.completions.create(\n",
    "    model=\"deepseek-chat\",\n",
    "    messages=[\n",
    "        {\"role\": \"system\", \"content\": SYSTEM_PROMPT},\n",
    "        {\"role\": \"user\", \"content\": USER_PROMPT},\n",
    "    ],\n",
    ")\n",
    "print(response.choices[0].message.content)"
   ]
  },
  {
   "cell_type": "code",
   "execution_count": null,
   "id": "b3a794d4-e0ac-42a8-b733-fca8ca213c5a",
   "metadata": {},
   "outputs": [],
   "source": []
  }
 ],
 "metadata": {
  "kernelspec": {
   "display_name": "Python 3 (ipykernel)",
   "language": "python",
   "name": "python3"
  },
  "language_info": {
   "codemirror_mode": {
    "name": "ipython",
    "version": 3
   },
   "file_extension": ".py",
   "mimetype": "text/x-python",
   "name": "python",
   "nbconvert_exporter": "python",
   "pygments_lexer": "ipython3",
   "version": "3.13.5"
  }
 },
 "nbformat": 4,
 "nbformat_minor": 5
}
